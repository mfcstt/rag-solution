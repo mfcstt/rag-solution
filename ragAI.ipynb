{
 "cells": [
  {
   "cell_type": "code",
   "execution_count": 10,
   "metadata": {},
   "outputs": [],
   "source": [
    "from langchain_text_splitters import RecursiveCharacterTextSplitter\n",
    "from langchain_openai import OpenAIEmbeddings\n",
    "from langchain_openai import ChatOpenAI\n",
    "from langchain_community.vectorstores import Chroma\n",
    "from langchain_community.document_loaders import PyPDFLoader\n",
    "from langchain.chains.question_answering import load_qa_chain"
   ]
  },
  {
   "cell_type": "code",
   "execution_count": 19,
   "metadata": {},
   "outputs": [],
   "source": [
    "import os\n",
    "openai_api_key = os.getenv(\"OPENAI_API_KEY\")"
   ]
  },
  {
   "cell_type": "code",
   "execution_count": 12,
   "metadata": {},
   "outputs": [],
   "source": [
    "embeddings_model = OpenAIEmbeddings()\n",
    "llm = ChatOpenAI(model_name=\"gpt-4o-mini\", max_tokens=200)"
   ]
  },
  {
   "cell_type": "markdown",
   "metadata": {},
   "source": [
    "### Carregar Arquivo PDF"
   ]
  },
  {
   "cell_type": "code",
   "execution_count": 13,
   "metadata": {},
   "outputs": [],
   "source": [
    "pdf = \"lei_ia_2023.pdf\"\n",
    "loader = PyPDFLoader(pdf, extract_images=False)\n",
    "pages = loader.load_and_split()"
   ]
  },
  {
   "cell_type": "markdown",
   "metadata": {},
   "source": [
    "### Chunks"
   ]
  },
  {
   "cell_type": "code",
   "execution_count": 14,
   "metadata": {},
   "outputs": [],
   "source": [
    "text_splitter = RecursiveCharacterTextSplitter(\n",
    "    chunk_size=4000,\n",
    "    chunk_overlap=20,\n",
    "    length_function = len,\n",
    "    add_start_index = True\n",
    ")\n",
    "\n",
    "chuncks = text_splitter.split_documents(pages)"
   ]
  },
  {
   "cell_type": "markdown",
   "metadata": {},
   "source": [
    "### Salvando Chunks no VectorDB"
   ]
  },
  {
   "cell_type": "code",
   "execution_count": 15,
   "metadata": {},
   "outputs": [
    {
     "name": "stderr",
     "output_type": "stream",
     "text": [
      "C:\\Users\\Maria Fernanda\\AppData\\Local\\Temp\\ipykernel_20436\\2653934535.py:2: LangChainDeprecationWarning: Since Chroma 0.4.x the manual persistence method is no longer supported as docs are automatically persisted.\n",
      "  db.persist()\n"
     ]
    }
   ],
   "source": [
    "db = Chroma.from_documents(chuncks, embedding=embeddings_model, persist_directory=\"chroma_db\")\n",
    "db.persist()"
   ]
  },
  {
   "cell_type": "markdown",
   "metadata": {},
   "source": [
    "### Método Retriver e Chain"
   ]
  },
  {
   "cell_type": "code",
   "execution_count": 16,
   "metadata": {},
   "outputs": [],
   "source": [
    "vector_db = Chroma(persist_directory=\"chroma_db\", embedding_function=embeddings_model)\n",
    "\n",
    "# Load the retriever\n",
    "retriever = vector_db.as_retriever(search_kwargs={\"k\": 5})\n",
    "\n",
    "# Construct the QA chain for the chatbot\n",
    "chain = load_qa_chain(llm, chain_type=\"stuff\")"
   ]
  },
  {
   "cell_type": "markdown",
   "metadata": {},
   "source": [
    "### Execução e Query"
   ]
  },
  {
   "cell_type": "code",
   "execution_count": 17,
   "metadata": {},
   "outputs": [],
   "source": [
    "def ask(question):\n",
    "    context = retriever.get_relevant_documents(question)\n",
    "    answer = (chain({\"input_documents\": context, \"question\": question}, return_only_outputs=True)) ['output_text']\n",
    "    return answer"
   ]
  },
  {
   "cell_type": "code",
   "execution_count": 18,
   "metadata": {},
   "outputs": [
    {
     "name": "stderr",
     "output_type": "stream",
     "text": [
      "C:\\Users\\Maria Fernanda\\AppData\\Local\\Temp\\ipykernel_20436\\310251223.py:3: LangChainDeprecationWarning: The method `Chain.__call__` was deprecated in langchain 0.1.0 and will be removed in 1.0. Use :meth:`~invoke` instead.\n",
      "  answer = (chain({\"input_documents\": context, \"question\": question}, return_only_outputs=True)) ['output_text']\n"
     ]
    },
    {
     "name": "stdout",
     "output_type": "stream",
     "text": [
      "Answer: Os principais pontos que sua empresa deve se preocupar em relação à lei sobre inteligência artificial incluem:\n",
      "\n",
      "1. **Ambiente Regulatório Experimental (Sandbox Regulatório)**: Sua empresa pode solicitar autorização para operar em um ambiente regulatório experimental, mas deve apresentar um projeto que demonstre inovação e benefícios sociais.\n",
      "\n",
      "2. **Direitos dos Afetados**: É necessário garantir que as pessoas afetadas por sistemas de inteligência artificial recebam informações claras sobre como esses sistemas funcionam, incluindo a transparência sobre o uso de dados pessoais.\n",
      "\n",
      "3. **Sanções e Responsabilidades**: A empresa pode enfrentar sanções administrativas, civis ou penais em caso de infrações, incluindo multas e suspensão de atividades. Além disso, há a obrigação de reparação integral do dano causado.\n",
      "\n",
      "4. **Monitoramento e Comunicação de Incidentes**: A empresa deve implementar mecanismos de monitoramento contínuo e reportar à autoridade competente qualquer incidente grave de segurança que possa afetar pessoas ou infraestruturas críticas.\n",
      "\n",
      "\n"
     ]
    }
   ],
   "source": [
    "user_question = input(\"Ask me anything: \")\n",
    "answer = ask(user_question)\n",
    "print(\"Answer:\", answer)"
   ]
  }
 ],
 "metadata": {
  "kernelspec": {
   "display_name": "Python 3",
   "language": "python",
   "name": "python3"
  },
  "language_info": {
   "codemirror_mode": {
    "name": "ipython",
    "version": 3
   },
   "file_extension": ".py",
   "mimetype": "text/x-python",
   "name": "python",
   "nbconvert_exporter": "python",
   "pygments_lexer": "ipython3",
   "version": "3.12.5"
  }
 },
 "nbformat": 4,
 "nbformat_minor": 2
}
